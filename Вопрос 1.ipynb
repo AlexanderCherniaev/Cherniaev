{
 "cells": [
  {
   "cell_type": "code",
   "execution_count": 1,
   "metadata": {},
   "outputs": [],
   "source": [
    "import numpy as np\n",
    "import pandas as pd\n",
    "import datetime "
   ]
  },
  {
   "cell_type": "code",
   "execution_count": null,
   "metadata": {},
   "outputs": [],
   "source": [
    "df = pd.merge(orders, orderLines, how='left', on='OrderId')"
   ]
  },
  {
   "cell_type": "code",
   "execution_count": 4,
   "metadata": {},
   "outputs": [],
   "source": [
    "df['DateTime'] = pd.to_datetime(df['DateTime'], format='%Y-%m-%d %H:%M:%S')\n",
    "df = df.sort_values(by = 'DateTime')\n",
    "df = df.set_index('DateTime')\n",
    "df1 = df.last('1m')"
   ]
  },
  {
   "cell_type": "code",
   "execution_count": null,
   "metadata": {},
   "outputs": [],
   "source": [
    "### Делим на квантили по столбцу ProductID \n",
    "df1['Quantile_rank']=pd.qcut(df1['ProductId'],4,labels=False)"
   ]
  },
  {
   "cell_type": "code",
   "execution_count": null,
   "metadata": {},
   "outputs": [],
   "source": [
    "### Самые популярные продукты\n",
    "prod = df1[(df1['Quantile_rank'] == 3)]"
   ]
  },
  {
   "cell_type": "code",
   "execution_count": null,
   "metadata": {},
   "outputs": [],
   "source": [
    "### Суммарная выручка по каждому продукту\n",
    "prod.groupby(['ProductId'])['Price'].aggregate('sum')"
   ]
  },
  {
   "cell_type": "code",
   "execution_count": null,
   "metadata": {},
   "outputs": [],
   "source": [
    "### Средний чек заказов, в которых есть такие продукты.\n",
    "### в dff убраны все строки, где нет популярных продуктов\n",
    "dff = pd.merge(df1, df, how='left', on='OrderId')\n",
    "df_new = pd.DataFrame(dff.groupby(['OrderId'])['Price'].aggregate('sum'))\n",
    "df_new.columns = ['Bill']\n",
    "df_new['Bill'].avg()"
   ]
  },
  {
   "cell_type": "markdown",
   "metadata": {},
   "source": [
    "### Мне непонятно, что значит покрыть отчет тестами. По моему мнению для этого нужно иметь таблицы orders и orderLines."
   ]
  },
  {
   "cell_type": "code",
   "execution_count": null,
   "metadata": {},
   "outputs": [],
   "source": []
  }
 ],
 "metadata": {
  "kernelspec": {
   "display_name": "Python 3",
   "language": "python",
   "name": "python3"
  },
  "language_info": {
   "codemirror_mode": {
    "name": "ipython",
    "version": 3
   },
   "file_extension": ".py",
   "mimetype": "text/x-python",
   "name": "python",
   "nbconvert_exporter": "python",
   "pygments_lexer": "ipython3",
   "version": "3.7.0"
  }
 },
 "nbformat": 4,
 "nbformat_minor": 2
}
